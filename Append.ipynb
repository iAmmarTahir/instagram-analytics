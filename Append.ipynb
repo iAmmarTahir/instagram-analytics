{
 "cells": [
  {
   "cell_type": "code",
   "execution_count": 26,
   "metadata": {},
   "outputs": [
    {
     "name": "stdout",
     "output_type": "stream",
     "text": [
      "Folder Paths: ['Trisha', 'apratim', 'sparsh', 'ammar', 'priyam']\n"
     ]
    }
   ],
   "source": [
    "import os\n",
    "import pandas as pd\n",
    "\n",
    "def concatenate_csvs(folder_paths, output_file):\n",
    "    concatenated_df = pd.DataFrame()\n",
    "    \n",
    "    #print(\"Folder Paths:\", folder_paths)\n",
    "\n",
    "    for folder_path in folder_paths:\n",
    "        try:\n",
    "            for file_name in os.listdir(folder_path):\n",
    "                if file_name.endswith('.csv'):\n",
    "                    file_path = os.path.join(folder_path, file_name)\n",
    "                    try:\n",
    "                        df = pd.read_csv(file_path)\n",
    "                        if not df.empty:\n",
    "                            concatenated_df = pd.concat([concatenated_df, df])\n",
    "                    except pd.errors.EmptyDataError:\n",
    "                        continue\n",
    "        except FileNotFoundError:\n",
    "            continue\n",
    "\n",
    "    concatenated_df.to_csv(output_file, index=False)\n",
    "\n",
    "\n",
    "output_file = 'data/appended_data.csv'\n",
    "\n",
    "folders = ['Trisha', 'apratim', 'sparsh', 'ammar', 'priyam']\n",
    "\n",
    "concatenate_csvs(folders, output_file)\n"
   ]
  }
 ],
 "metadata": {
  "kernelspec": {
   "display_name": "Python 3",
   "language": "python",
   "name": "python3"
  },
  "language_info": {
   "codemirror_mode": {
    "name": "ipython",
    "version": 3
   },
   "file_extension": ".py",
   "mimetype": "text/x-python",
   "name": "python",
   "nbconvert_exporter": "python",
   "pygments_lexer": "ipython3",
   "version": "3.11.7"
  },
  "orig_nbformat": 4
 },
 "nbformat": 4,
 "nbformat_minor": 2
}
