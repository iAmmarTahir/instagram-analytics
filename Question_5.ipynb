{
  "nbformat": 4,
  "nbformat_minor": 0,
  "metadata": {
    "colab": {
      "provenance": []
    },
    "kernelspec": {
      "name": "ir",
      "display_name": "R"
    },
    "language_info": {
      "name": "R"
    }
  },
  "cells": [
    {
      "cell_type": "code",
      "execution_count": null,
      "metadata": {
        "id": "veei6s24poTK"
      },
      "outputs": [],
      "source": [
        "# Load required libraries\n",
        "library(tidyverse)\n",
        "\n",
        "# Read the dataset\n",
        "data <- read.csv(\"combined_data (1).csv\")\n",
        "\n",
        "# Remove rows with incomplete information about the number of followers\n",
        "data <- data %>% drop_na(likes)\n",
        "data <- data %>% drop_na(comments)\n",
        "data <- data %>% drop_na(followers)\n",
        "\n",
        "\n",
        "# Convert likes, comments, and followers to numeric\n",
        "data <- data %>%\n",
        "  mutate(\n",
        "    likes = as.numeric(likes),\n",
        "    comments = as.numeric(comments),\n",
        "    followers = as.numeric(followers)\n",
        "  )\n",
        "\n",
        "# Calculate post engagement\n",
        "data <- data %>% mutate(post_engagement = 100* (likes + comments) / (followers))\n",
        "\n",
        "# Hypothesis Test 1: Does the type of content (video or not) affect post engagement?\n",
        "\n",
        "# Subset the data for video posts\n",
        "video_data <- data %>% filter(is_video == 'True')\n",
        "\n",
        "# Subset the data for non-video posts\n",
        "non_video_data <- data %>% filter(is_video == 'False')"
      ]
    },
    {
      "cell_type": "code",
      "source": [
        "\n",
        "# Check if there are enough observations for t-test\n",
        "if (nrow(video_data) > 1 && nrow(non_video_data) > 1) {\n",
        "  # Perform t-test\n",
        "  t_test_result <- t.test(video_data$post_engagement, non_video_data$post_engagement)\n",
        "\n",
        "  # Print the results\n",
        "  cat(\"Hypothesis Test 1 (Video vs Non-Video):\")\n",
        "  print(t_test_result)\n",
        "} else {\n",
        "  cat(\"Not enough observations for Hypothesis Test 1.\")\n",
        "}\n"
      ],
      "metadata": {
        "id": "56D-c_XYtKjF"
      },
      "execution_count": null,
      "outputs": []
    },
    {
      "cell_type": "code",
      "source": [
        "cat(var(non_video_data$post_engagement))"
      ],
      "metadata": {
        "id": "FszQWsEntjQG"
      },
      "execution_count": null,
      "outputs": []
    },
    {
      "cell_type": "code",
      "source": [
        "cat(var(video_data$post_engagement))"
      ],
      "metadata": {
        "id": "oJGAykq9uCsE"
      },
      "execution_count": null,
      "outputs": []
    },
    {
      "cell_type": "code",
      "source": [
        "# Hypothesis Test 2: Does the number of images in a post affect post engagement for non-video posts?\n",
        "\n",
        "# Subset the data for single image posts\n",
        "single_image_data <- non_video_data %>% filter(multiple_images== 'False')\n",
        "\n",
        "# Subset the data for multiple image posts\n",
        "multiple_image_data <- non_video_data %>% filter(multiple_images == 'True')\n",
        "\n",
        "# Check if there are enough observations for t-test\n",
        "if (nrow(single_image_data) > 1 && nrow(multiple_image_data) > 1) {\n",
        "  # Perform t-test\n",
        "  t_test_result_2 <- t.test(single_image_data$post_engagement, multiple_image_data$post_engagement)\n",
        "\n",
        "  # Print the results\n",
        "  cat(\"Hypothesis Test 2 (Single Image vs Multiple Image):\")\n",
        "  print(t_test_result_2)\n",
        "} else {\n",
        "  cat(\"Not enough observations for Hypothesis Test 2.\")\n",
        "}\n"
      ],
      "metadata": {
        "id": "lNXK4X3XuUGP"
      },
      "execution_count": null,
      "outputs": []
    },
    {
      "cell_type": "code",
      "source": [
        "cat(var(single_image_data$post_engagement))"
      ],
      "metadata": {
        "id": "MGgqQydiuUOL"
      },
      "execution_count": null,
      "outputs": []
    },
    {
      "cell_type": "code",
      "source": [
        "cat(var(multiple_image_data$post_engagement))"
      ],
      "metadata": {
        "id": "cgZb3b2UuUQB"
      },
      "execution_count": null,
      "outputs": []
    },
    {
      "cell_type": "code",
      "source": [
        "# Transform the post_engagement variable\n",
        "sigmoid <- function(x) {\n",
        "  #x = x*100\n",
        "  1 / (1 + exp(-x))\n",
        "}\n",
        "data <- data %>% mutate(post_engagement_rate_sigmoid = sigmoid(post_engagement))\n",
        "\n",
        "# Violin plot for Hypothesis Test 1 with sigmoid-transformed post_engagement rate\n",
        "ggplot(data, aes(x = factor(is_video), y = post_engagement_rate_sigmoid, fill = factor(is_video))) +\n",
        "  geom_violin() +\n",
        "    stat_summary(fun = mean, geom = \"point\", color = \"black\", size = 3, position = position_dodge(0.75)) +  # Add mean point\n",
        "  labs(title = \"Post Engagement (sigmoid-Transformed): Video vs Non-Video\",\n",
        "       x = \"Type of Content\",\n",
        "       y = \"sigmoid(Post Engagement)\") +\n",
        "  scale_fill_manual(values = c(\"False\" = \"skyblue\", \"True\" = \"lightcoral\"))\n",
        "\n",
        "non_video_data <- non_video_data %>% mutate(post_engagement_rate_sigmoid = sigmoid(post_engagement))\n",
        "\n",
        "# Violin plot for Hypothesis Test 2 with sigmoid-transformed post_engagement rate\n",
        "ggplot(non_video_data, aes(x = factor(multiple_images), y = post_engagement_rate_sigmoid, fill = factor(multiple_images))) +\n",
        "  geom_violin() +\n",
        "    stat_summary(fun = mean, geom = \"point\", color = \"black\", size = 3, position = position_dodge(0.75)) +  # Add mean point\n",
        "  labs(title = \"Post Engagement (sigmoid-Transformed): Single Image vs Multiple Image (Non-Video)\",\n",
        "       x = \"Number of Images\",\n",
        "       y = \"sigmoid(Post Engagement)\") +\n",
        "  scale_fill_manual(values = c(\"False\" = \"lightgreen\", \"True\" = \"lightcoral\"))"
      ],
      "metadata": {
        "id": "OlJuZxyYuUbi"
      },
      "execution_count": null,
      "outputs": []
    },
    {
      "cell_type": "code",
      "source": [
        "# Fit an ANOVA model\n",
        "anova_result <- aov(post_engagement ~ is_video, data = data)\n",
        "\n",
        "# Print the ANOVA table\n",
        "print(summary(anova_result))"
      ],
      "metadata": {
        "id": "B-J-kmwCxYOO"
      },
      "execution_count": null,
      "outputs": []
    },
    {
      "cell_type": "code",
      "source": [
        "# Fit an ANOVA model\n",
        "anova_result <- aov(post_engagement_rate_sigmoid ~ multiple_images, data = non_video_data)\n",
        "\n",
        "# Print the ANOVA table\n",
        "print(summary(anova_result))"
      ],
      "metadata": {
        "id": "97LyIfoSxn9h"
      },
      "execution_count": null,
      "outputs": []
    },
    {
      "cell_type": "code",
      "source": [
        "# Convert multiple_images to a factor variable\n",
        "non_video_data$multiple_images <- factor(non_video_data$multiple_images, levels = c(\"False\", \"True\"))\n",
        "\n",
        "# Fit an ANOVA model\n",
        "anova_result <- aov(post_engagement ~ multiple_images, data = non_video_data)"
      ],
      "metadata": {
        "id": "a_LpLpoWyetS"
      },
      "execution_count": null,
      "outputs": []
    }
  ]
}