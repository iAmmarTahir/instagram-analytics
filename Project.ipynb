{
 "cells": [
  {
   "cell_type": "code",
   "execution_count": 1,
   "id": "1c76560a",
   "metadata": {},
   "outputs": [],
   "source": [
    "import http.client\n",
    "import json\n",
    "import csv\n",
    "import time"
   ]
  },
  {
   "cell_type": "code",
   "execution_count": 2,
   "id": "781091a7",
   "metadata": {},
   "outputs": [],
   "source": [
    "def fetch_posts(conn, username):\n",
    "    conn.request(\"GET\", \"/account-feed?username=\" + username, headers=headers)\n",
    "\n",
    "    res = conn.getresponse()\n",
    "    data = res.read()\n",
    "    json_string = data.decode('utf-8')\n",
    "    parsed_data = json.loads(json_string)\n",
    "    return parsed_data"
   ]
  },
  {
   "cell_type": "code",
   "execution_count": 3,
   "id": "7986d502",
   "metadata": {},
   "outputs": [],
   "source": [
    "fields_of_interest = ['shortcode', 'owner', 'is_video', 'edge_media_to_caption', 'edge_media_to_comment', 'edge_liked_by', 'taken_at_timestamp', 'location', 'display_url', 'edge_sidecar_to_children', 'edge_media_to_caption']"
   ]
  },
  {
   "cell_type": "code",
   "execution_count": 4,
   "id": "ecedef81",
   "metadata": {},
   "outputs": [],
   "source": [
    "# Extracts the fields of interests \n",
    "def preprocess_posts(posts):\n",
    "    preprocessed_posts = []\n",
    "    print(posts)\n",
    "    for post in posts:\n",
    "        post = post[\"node\"]\n",
    "        new_post = {}\n",
    "        for elem in fields_of_interest:\n",
    "            if elem in post:\n",
    "                new_post[elem] = post[elem]\n",
    "            \n",
    "        preprocessed_posts.append(new_post)\n",
    "\n",
    "    return preprocessed_posts\n",
    "        "
   ]
  },
  {
   "cell_type": "code",
   "execution_count": 5,
   "id": "fb4b72e5",
   "metadata": {},
   "outputs": [],
   "source": [
    "# Flattening the JSON\n",
    "def flatten(posts):\n",
    "    ps = []\n",
    "    for post in posts:\n",
    "        p = {}\n",
    "        p['owner_id'] = post['owner']['id']\n",
    "        p['owner_username'] = post['owner']['username']\n",
    "        p['shortcode'] = post['shortcode']\n",
    "        p['is_video'] = post['is_video']\n",
    "        # Caption\n",
    "        for elem in post['edge_media_to_caption']['edges']:\n",
    "            if 'caption' in p:\n",
    "                p['caption'] += elem['node']['text']\n",
    "            else:\n",
    "                p['caption'] = elem['node']['text']\n",
    "        p['comments'] = post['edge_media_to_comment']['count']\n",
    "        p['likes'] = post['edge_liked_by']['count']\n",
    "        p['created_at'] = post['taken_at_timestamp']\n",
    "        p['location'] = post['location']\n",
    "        p['imageUrl'] = post['display_url']\n",
    "        \n",
    "        # multiple images check\n",
    "        if 'edge_sidecar_to_children' in post:\n",
    "            p['multiple_images'] = True\n",
    "        else:\n",
    "            p['multiple_images'] = False\n",
    "        \n",
    "        ps.append(p)\n",
    "    \n",
    "    return ps\n",
    "            \n",
    "        \n",
    "        "
   ]
  },
  {
   "cell_type": "code",
   "execution_count": 6,
   "id": "c2b441b9",
   "metadata": {},
   "outputs": [],
   "source": [
    "def convert_to_csv(data, filename):\n",
    "    # Write CSV file\n",
    "    with open(filename, 'w', newline='') as file:\n",
    "        writer = csv.DictWriter(file, fieldnames=data[0].keys())\n",
    "\n",
    "        # Write header\n",
    "        writer.writeheader()\n",
    "\n",
    "        # Write data\n",
    "        writer.writerows(data)"
   ]
  },
  {
   "cell_type": "code",
   "execution_count": 7,
   "id": "ea9c4a7d",
   "metadata": {},
   "outputs": [],
   "source": [
    "def scrape_account(username):\n",
    "    print(f\"Started scraping: {username}\")\n",
    "    conn = http.client.HTTPSConnection(\"instagram130.p.rapidapi.com\")\n",
    "\n",
    "    headers = {\n",
    "        'X-RapidAPI-Key': \"<API_KEY>\",\n",
    "        'X-RapidAPI-Host': \"instagram130.p.rapidapi.com\"\n",
    "    }\n",
    "    data = fetch_posts(conn, username)\n",
    "    posts = preprocess_posts(data)\n",
    "    posts = flatten(posts)\n",
    "    convert_to_csv(posts, \"./data/\" + username + \".csv\")\n",
    "    print(f\"Done scraping: {username} :)\")"
   ]
  },
  {
   "cell_type": "code",
   "execution_count": 8,
   "id": "c1639c52",
   "metadata": {},
   "outputs": [],
   "source": [
    "accounts_list = [] # Add your list here"
   ]
  },
  {
   "cell_type": "code",
   "execution_count": 12,
   "id": "e70bfb30",
   "metadata": {},
   "outputs": [
    {
     "name": "stdout",
     "output_type": "stream",
     "text": [
      "['1misssmeis', '3ala2o', '433', '6senseofficial', '7ikhals', '_foodstories_', '_hollyt', '_ingo_1', '_mariannejacobsen_', '_picolo', '_tinamaria', '_tuck4', 'a.sharif92', 'aaronsanimals', 'abanddoned', 'achievetheimpossible', 'adenorah', 'adesignersmind', 'adingattamimi_photography', 'adriancmurray', 'afnan_albatel', 'afofa', 'aguynamedpatrick', 'ahmet.erdem', 'aialahernando', 'aka.the.one', 'akusepp', 'aleksmusika', 'alenaakhmadullina', 'alessandro_carpentiero', 'alessioalbi', 'alexandrabring', 'alexandreagarza', 'alexcentomo', 'alexhonnold', 'alexiarayee', 'alexisren', 'alexmidler', 'alexstrohl', 'alice_gao', 'aliona_hilt', 'alissaviolet', 'alldaytravel', 'alliemtaylor', 'amandabisk', 'amandacerny', 'amiraa88', 'amivitale', 'ammish', 'amymarie', 'amytoensing', 'ana_lombardini', 'anadeliafitness', 'anddicted', 'andicsinger', 'andreabadendyck', 'andreadenver3', 'andreamelchiorre1', 'andreleonardooficial', 'andy_mann', 'andyheart', 'angela_mazzanti', 'angelicablick', 'anilarjandas', 'anllela_sagra', 'annanystrom', 'anniethorisdottir', 'annijor', 'anniksas', 'annlestyle', 'annybakhireva', 'antonlofer', 'applebums', 'arc.only', 'archilovers', 'archixxi', 'argonautphoto', 'arielealasko', 'arikasato', 'arni_coraldo', 'arqsketch', 'art_spotlight', 'artofdrawingg', 'artofvio', 'artofvisuals', 'ashimashiraishi', 'ashybines', 'aspynovard', 'audi_obsession', 'audidriven', 'audiosoup', 'aureta', 'avaallan', 'averagerob', 'awesome.pix', 'awesomedreamplaces', 'badasscassfit_', 'baloublue', 'barcelonacitizen', 'beachyogagirl', 'beckermanblog', 'bejamin', 'belenhostalet', 'benakribo', 'benlowy', 'berlinstagram', 'bestofmenstyle', 'bestofstreetstyled', 'bestwoof', 'bethanyhamilton', 'bethsusu', 'bettyautier', 'beverlyjoubert', 'bibbideg', 'bigchunkymonkey', 'bjcalvillo', 'blackjaguarwhitetiger', 'blaireadiebee', 'blakescott_', 'blanca_suarez', 'blogilates', 'blvckd0pe', 'bobbimac', 'borgeousmusic', 'bossbabe.inc', 'boxingguru', 'brahmino', 'brettcap', 'brianskerry', 'brigadeirochoc', 'brightonkeller', 'britishfashioncouncil', 'brookewillson', 'brooklynandbailey', 'brosnacion', 'brunaviolamt', 'bryceyoga', 'burakkahveci', 'buseterim', 'butusofa', 'cacatengker', 'cactusmagazine', 'cafajestando', 'caitbarkerr', 'caitlin__oconnor', 'camaro.family', 'camilacoelho', 'camilasenna', 'canadasworld', 'capucineanavoff', 'car', 'carinstagram', 'carlibel', 'carlifestyle', 'carlorevenga', 'carlosestini', 'carly', 'caro_e_', 'carodaur', 'carolsaraivafitness', 'carringtondurham', 'cath_belle', 'catherinepaiz', 'cathiarivera', 'catmantoo', 'cbquality', 'cedarwright', 'cesinha', 'chaileeson', 'chamiltonjames', 'changmakeup', 'charlestrippy', 'chiarabiasi', 'chiaraferragni', 'chicagofoodauthority', 'chico_lachowski', 'chiliphilly', 'chloe_penderie', 'chloemorello', 'chloeszep', 'chris_sharma', 'chrisburkard', 'chrisjohnmillington', 'chrisozer']\n",
      "['christendominique', 'christianziegler', 'christinabiluca', 'christinehmcconnell', 'christopherandersonphoto', 'chuck', 'cimkedi', 'cintascotch', 'ciriljazbec', 'civilking', 'claireonline', 'clarecrawley', 'classiccarchasers', 'colbybrownphotography', 'colerise', 'collagevintage', 'college_housewife', 'conrad_anker', 'coryrichards', 'couturenotebook', 'cozinhadalbo', 'cravingsinamsterdam', 'crazyjewishmom', 'cristinamittermeier', 'crochetgirl99', 'croyable', 'cuchira', 'cucinadigitale', 'culturizate', 'cutegirlshairstyles', 'cyarine', 'd.signers', 'daddyissues_', 'dailyfoodfeed', 'daisyclementine', 'dalalid', 'damselindior', 'danbilzerian', 'dani_thorne', 'daniel_ernst', 'dannibelle', 'dannyzappa', 'danrubin', 'dansmoe', 'daveyoder', 'davidalanharvey', 'daviddoubilet', 'davidson_frere', 'davidstea', 'dawilda', 'deemabayyaa', 'deliciouslyella', 'deliscake', 'deporloversteam', 'der_landgraf', 'designdecor', 'destination_wow', 'destinationwolf', 'devanondeck', 'devourpower', 'dguttenfelder', 'diegobarrueco', 'digernes', 'diipakhosla', 'diogopicarra', 'disney_nuts', 'doctor.mike', 'doentesporfutebol', 'doina', 'donkarlito_', 'donnahaymagazine', 'dotzsoh', 'doyoutravel', 'drewtrush', 'drmusatokmak', 'dulceida', 'dunk', 'eatandshout', 'eatfamous', 'eatingnyc', 'eddypinto_', 'edkashi', 'edmhumor', 'el_kilombo', 'elaine_yiu', 'elenacarriere.official', 'elensham', 'elisabeth.rioux', 'elizabethgadd', 'eljuanpazurita', 'elladvornik', 'elliott.mae', 'elliottsailors', 'elsas_wholesomelife', 'emily_katz', 'emilyostbro', 'emilyschuman', 'emilyskyefit', 'emwng', 'enjoyphoenix', 'epictravelpost', 'erikjonesart', 'ernandaputra', 'erubes1', 'escolhiesperar', 'estonianna', 'eternal_noir', 'europe.vacations', 'euvictornogueira', 'evakosmasflores', 'everlook_photography', 'everythingeverywhere', 'exoticsbrazil', 'extremenature', 'f1mike28', 'faafirds', 'fabumakeup4u', 'faby_mamaedegemeos', 'faheeym', 'faktastisch', 'fantastic_earth', 'fashion_by_gi', 'fashionboystyle', 'fashionforfemmes', 'fatosfemininos', 'featureshoot', 'felicitegrace', 'felixsiauw', 'filippofiora', 'finn', 'fit_trio', 'fitopaezmusica', 'fitqueenirene', 'fixthisbuildthat', 'flamuruk', 'flettemamma', 'fluffypack', 'forn_sant_francesc', 'fozaza', 'framboisejam', 'francescocostagliola_', 'frangocombatatadoce', 'frank_the_funnyfrenchie', 'franslanting', 'frasesdem3rda', 'frasibianche.it', 'frenchiebutt', 'frenchwords', 'funforlouis', 'gabrielapugliesi', 'gabyespino', 'galagonzalez', 'garancedore', 'garypeppergirl', 'gatherandfeast', 'gavinoneillphoto', 'gentbelike', 'gentslounge', 'geosteinmetz', 'gerdludwig', 'germanroamers', 'giangi_81', 'gianmarcovalenza', 'giizeleoliveira', 'ginizzle', 'giulianafortuna', 'gizemozdem1', 'gkstories', 'glencyfeliz', 'globe.travelpix', 'goldengianpy', 'goldenretrievers_', 'goodnewsfeed', 'gregsideris', 'grungesource', 'gui_', 'gurukafa', 'guy_tang', 'guytang_mydentity', 'gwilymcpugh', 'gypsea_lust', 'gypsetgoddess', 'hadiaghaleb', 'hairgod_zito']\n",
      "['halliedaily', 'hammond_robin', 'hannes_becker', 'hapatime', 'happinessbtq', 'hawkeyehuey', 'hayden_williams', 'heidimakeupartist', 'helenblandino', 'helloemilie', 'hillaryoff', 'hosico_cat', 'hotdudesreading', 'hotelsandresorts', 'house.of.leaders', 'hudabeauty', 'humansofny', 'iamamypham', 'iamgalla', 'iartos', 'ibrahimgi', 'icandyfitbeauty', 'iconize', 'idalaerke', 'idawarg', 'ideas_tatoo', 'ifuckinglovewatches', 'ig_pups', 'igorszucs', 'ihavethisthingwithfloors', 'indian_wedding_inspiration', 'ines_arroyo', 'ingridnilsen', 'insideweddings', 'instagrafite', 'instasurreal', 'interiorwife', 'ipaniza', 'irablockphoto', 'ireneisgood', 'irinahp', 'isnathan', 'italy.vacations', 'itsanuthida', 'itscaroo', 'itslydboss', 'iuriebelegurschi', 'ivankphoto', 'izkiz', 'j.hannah', 'jacob', 'jacobauesobolnew', 'jadeywadey180', 'jaglever', 'jai_nice', 'jamesalexanderellis', 'jamesgunn', 'janeteaestranha', 'janicejoostemaa', 'janinauhse', 'jannid', 'jannikobenhoff', 'jaredwhitney', 'jasminleonie.official', 'jasoncharleshill', 'javierrrey', 'jayalvarrez', 'jaydepierce', 'jeffmackdesigns', 'jenselter', 'jessiejamesdecker', 'jessiekass', 'jestemzolza', 'jethromullen', 'jimmy_chin', 'jimrichardsonng', 'jiordyn', 'jldrae', 'jn', 'joannagaines', 'joannakuchta', 'joelsartore', 'joemcnallyphoto', 'johannaeolsson', 'johnstanmeyer', 'jonanwiergo', 'jonathan_irish', 'jonesmarcia', 'joselyncano', 'juanjaramilloe', 'jujujuxiaowen', 'juliahengel', 'justhanni', 'kardinalmelon', 'karina_nigay', 'karinalarrauri', 'kat_in_nyc', 'kateclapp', 'katerina_perez', 'katia_mi', 'katia_mi_', 'katya_mtsitouridze', 'kayla_itsines', 'keenanpearce', 'keiyamazaki', 'kelsbrianne', 'kelsrfloyd', 'kenzas', 'kerrently', 'kerriehessillustration', 'kessara', 'kewiki', 'khivju', 'kickposters', 'kilianjornet', 'kinoyoga', 'kirstenalana', 'kirstenzellers', 'kitkat_ch', 'knifeaxe', 'kochifaraj', 'konaction', 'konservatif', 'kosta_williams', 'kpunkka', 'kristinabazan', 'kthegroove', 'kylekriegerhair', 'kyrenian', 'ladyaddict', '9:47', 'ladzinski', 'lalasizahands83', 'landonnordeman', 'lane_toran', 'lasselom', 'latifitness', 'laurajenkinson', 'laurasykora', 'laurenepbath', 'laurensimpson', 'lavicvic', 'le_blanc', 'leagueofupdates', 'leighannsays', 'lenas_view', 'lennart', 'levijfoster', 'libesona', 'lilithmoonlife', 'lilymaymac', 'linatesch', 'linda_lomelino', 'lioninthewild', 'lipstickfables', 'lisahyde_', 'lissletters', 'littlelizziev', 'livemontreal', 'livingitrural', 'livingonearth', 'lizaonair', 'local_milk', 'lojain_omran', 'louisdarcis', 'louteasdale', 'love.watts', 'loveandlemons', 'lovelypepa', 'luanasilva', 'lucamacellaripalmieri', 'luckybsmith', 'lumadeline', 'luxurybridalblogger', 'lyzabeth_lopez', 'lyzabethlopez', 'm_eye_nd', 'maaren_xx', 'macenzo', 'madds', 'madwhips_aston', 'madwhips_benz', 'madwhips_bimmer', 'madwhips_british']\n",
      "['madwhips_frd', 'madwhips_german', 'madwhips_gtr', 'madwhips_import', 'madwhips_italian', 'madwhips_mas', 'madwhips_mcl', 'madwhips_pag', 'madwhips_por', 'madwhips_usa', 'magic_fox', 'majachocolat', 'makaniterror', 'makanpakereceh', 'makeupartistale', 'makeupbydenise', 'makeupshayla', 'man__magazine', 'manalalalem', 'mangorabbitrabbit', 'manizha', 'manny_the_frenchie', 'maraferreira', 'marcelfloruss', 'marcusbleasdale', 'marcusbutler', 'margaret__zhang', 'maria__way', 'mariafranciska', 'mariale', 'marianodivaio', 'marinlle', 'marioncameleon', 'marioteguh', 'mariotestino', 'martabevacqua', 'marte_marie_forsberg', 'martinalapeligrosa', 'marutaro', 'maryamnyc', 'marycake', 'massy.arias', 'mathildegoehler', 'mattblack_blackmatt', 'matthiasmalmedie', 'mattiasklumofficial', 'mattscutt', 'mauricestravelphotos', 'mayabeaute', 'mayonose', 'meeeeeeeel_', 'meganhess_official', 'meghanrienks', 'melissafarlow', 'mensfashions', 'mensflair', 'menshairs', 'menshoesfashions', 'mentorofthebillion', 'menwithclass', 'menwithfootwear', 'menwithstreetstyle', 'meryturiel', 'mevy', 'mia_astral', 'micahgianneli', 'michaelchristopherbrown', 'michaelgiroux', 'michaelmelford', 'michelle_lewin', 'mija_mija', 'mikekus', 'mikeleceppi', 'mikkolagerstedt', 'mimielashiry', 'minilicious', 'miraduma', 'mishbridges', 'miss_gunner', 'miss_tina_louise', 'missalena.92', 'misscoolpics', 'misselvani', 'misshattan', 'missphitran', 'misswinter', 'misterflopatrick', 'mjdwarner', 'mo', 'moasalem', 'modaparameninas', 'modaprahomens', 'model_roz', 'moners', 'monycaeleogram', 'moonmountainman', 'morganphillips', 'motiheidari', 'motivafoods', 'movifiedbollywood', 'mrpaddingtonbear', 'mrscasual', 'muenchmax', 'muitointeressante', 'muradosmann', 'mustafaseven', 'myoliemyolie', 'myspacetom', 'nadia_mejia', 'nadiadamaso_ebnl', 'naguevona', 'nahcardoso', 'nakedplanet', 'namkcaps', 'nashgrier', 'nastilove', 'nataliareyesg', 'nataliehalcro', 'nataliejillfit', 'natgeoyourshot', 'nathparis', 'nationaldestinations', 'natlustosa', 'nazlihb', 'negin_mirsalehi', 'neriad', 'newdarlings', 'ngoldenberg', 'nicanorgarcia', 'nick__bateman', 'nico__riera', 'nihatkayin', 'ninaserebrova', 'noel.alva', 'nois7', 'norbertthedog', 'nouraridaofficial', 'nourish_atelier', 'nude_yogagirl', 'nwuuu', 'ocean', 'ohhcouture', 'ohwowfashion', 'olayseven', 'oliviaemilyx', 'oliviapierson', 'omarhuss', 'omgdeedee', 'omundoanimal', 'ovunno', 'owright', 'paigehathaway', 'paleyphoto', 'pamela_rf', 'pamemcbeath', 'pamhetlinger', 'pangea', 'paolausme', 'paollaoliveirareal', 'parisbyvegan', 'parisianfloors', 'parisinfourmonths', 'paulinhohop', 'paulnicklen', 'pedromcbride', 'pegasusunicorn', 'petekmuller', 'petisco', 'petitesluxures', 'piamuehlenbeck', 'pickupjazz', 'pilotmadeleine', 'pinkines', 'pipilottirist', 'pocket_world', 'pommpompidom', 'pondspider', 'poochofnyc', 'poschemodel', 'puppiesforall', 'puppyluvs', 'puure', 'qozop', 'quadtrocopter']\n",
      "['queenb', 'raqueeeeb', 'raquelbenetti', 'raphaelsay', 'ray', 'raychponygold', 'rayniyel', 'reutalfex', 'reza_jax', 'reycanlasjr', 'ricgm', 'richiekarma', 'ricordiemporium', 'riviera_maya_mexico', 'roamingon', 'robinnyc', 'roccozakk', 'romanticpug', 'rossocjennings', 'roxxsaurus', 'royaannmiller', 'rpellegrino87', 'ruthlessejuice', 'ryanlongnecker', 'ry_harris88', 'sadierob', 'sallymustang', 'salvarezphoto', 'saltyluxe', 'samearp', 'samevanslife', 'sam_kolder', 'samstroudxo', 'sandrosalomon', 'sarahjanewai', 'sarahkjp', 'sarahrav', 'saraunderwood', 'sayosamonji', 'scentofbutter', 'scottlipps', 'selenagomez', 'send_noods_', 'sergeykbn', 'sergiokletnoy', 'seth', 'sexyhootersladies', 'shackette', 'shaym', 'shelbybay', 'shua_nie', 'sierrablaircoyl', 'sinemyldz', 'sinhead', 'sincerelyjules', 'slavabezjak', 'smashpop', 'smcmennamy', 'smiley_lucas', 'snap4happiness', 'sofia_viscardi', 'sofieemilie', 'sofigigiputra', 'solotica_melbourne', 'sonny5ideup', 'so.shauna', 'spelldesigns', 'spencerkent', 'spetra', 'spiritscienceofficial', 'sportgirl', 'sprinkledlife', 'staceydavid', 'starbucks', 'stassiebaby', 'staysaltyflorida', 'staysickeurope', 'stefaniegiesinger', 'stefankarl', 'stevenvan_', 'steviefoehl', 'stevint', 'stilinberlin', 'stina', 'stokedroasters', 'straytocreate', 'streetartglobe', 'streetfashion.onpoint', 'studiomucci', 'stylesnooperdan', 'stylesprinter', 'suedefur', 'suethedon', 'sugarbearhair', 'sugarbearpics', 'sunshinebearyoga', 'superwrongmagazine', 'surfer_magazine', 'susanamartins_zone', 'sushantkumar', 'suunnset', 'sweat', 'sweatybetty', 'sweetportfolio', 'swopes', 'sydneyfashionblogger', 'sydneyfashionstylist', 'sydneyfoodcrew', 'sydneyfoodprn', 'sydneyfoodshare', 'sydneyfoodxplorer', 'sydneyfoodie', 'sydneyfoodies', 'sydneyfoodporn', 'sydneyfoodprn_', 'sydneyhotel', 'sydneyisopen', 'sydneylocal', 'sydneyrestaurants', 'sydneytowerbuffet', 'sydneytowerdining', 'sydneytowereye', 'sydneytowerrestaurant', 'sydneytowerwestfield', 'sydneywestfield', 'sydneyxplorer', 'sydneyxplorers', 'sydneyy', 'taiyaki52', 'takepart', 'takinyerphoto', 'taleah_madison', 'taoozdate', 'taramilktea', 'tarekboudali', 'tarrahd', 'tejasswiprakash', 'teknisyeninsesi', 'telbusofficial', 'tenleymolzahn', 'the_anjelikas', 'the_coolhunter_', 'thebucketlistfamily', 'thefashionfraction', 'thefrontrowe', 'thegentlemenrulebook', 'thehautepursuit', 'thelebaneseplate', 'theloveofdenver', 'theminiaturelife', 'themodernclassy', 'thenailboss', 'thenowmassage', 'thepaperbunny', 'thephotoplug', 'therawtextures', 'thescript', 'thestyledseed', 'thetiafox', 'thevintagefame', 'theworldyguide', 'thiagomlcorrea', 'thiagomlcorrea_', 'thispugslife', 'thrillgeek', 'thuie', 'tidal', 'tillysthreads', 'timmossholder', 'timmyham', 'tiniihitakara', 'tiniiwerbung', 'tipstir', 'tishathese', 'tj', 'toddmcclements', 'toftimani', 'toimylove', 'tomashavel', 'tomclaeren', 'tomjauncey', 'tomorrowland', 'tony_hawk', 'tonye_']\n"
     ]
    }
   ],
   "source": [
    "for account in accounts_list:\n",
    "    try:\n",
    "        scrape_account(account)\n",
    "    except Exception as e:\n",
    "        print(f\"Failed: {e}\")"
   ]
  }
 ],
 "metadata": {
  "kernelspec": {
   "display_name": "Python 3 (ipykernel)",
   "language": "python",
   "name": "python3"
  },
  "language_info": {
   "codemirror_mode": {
    "name": "ipython",
    "version": 3
   },
   "file_extension": ".py",
   "mimetype": "text/x-python",
   "name": "python",
   "nbconvert_exporter": "python",
   "pygments_lexer": "ipython3",
   "version": "3.9.6"
  }
 },
 "nbformat": 4,
 "nbformat_minor": 5
}
